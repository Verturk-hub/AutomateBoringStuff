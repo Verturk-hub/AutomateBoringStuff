{
 "cells": [
  {
   "cell_type": "code",
   "execution_count": 6,
   "source": [
    "import random\r\n",
    "guess = ''\r\n",
    "while guess not in ('heads', 'tails'):\r\n",
    "    print('Guess the coin toss! Enter heads or tails:')\r\n",
    "    guess = input()\r\n",
    "toss = random.randint(0, 1) \r\n",
    "if toss == guess:\r\n",
    "    print('You got it!')\r\n",
    "else:\r\n",
    "    print('Nope! Guess again!')\r\n",
    "    guesss = input()\r\n",
    "    if toss == guess:\r\n",
    "        print('You got it!')\r\n",
    "    else:\r\n",
    "        print('Nope. You are really bad at this game.')"
   ],
   "outputs": [
    {
     "output_type": "stream",
     "name": "stdout",
     "text": [
      "Guess the coin toss! Enter heads or tails:\n",
      "Guess the coin toss! Enter heads or tails:\n",
      "Guess the coin toss! Enter heads or tails:\n",
      "Nope! Guess again!\n",
      "Nope. You are really bad at this game.\n"
     ]
    }
   ],
   "metadata": {}
  },
  {
   "cell_type": "code",
   "execution_count": 13,
   "source": [
    "message='call me at this number'\r\n",
    "for i in range(len(message)):\r\n",
    "    chunk = message[i:i+12]\r\n",
    "    "
   ],
   "outputs": [],
   "metadata": {}
  },
  {
   "cell_type": "code",
   "execution_count": 14,
   "source": [
    "while True:\r\n",
    "    print('Enter your age:')\r\n",
    "    age=input()\r\n",
    "    try:\r\n",
    "        age = int(age)\r\n",
    "    except:\r\n",
    "        print('Please use numeric digits')\r\n",
    "        continue\r\n",
    "    if age<1:\r\n",
    "        print('please enter a positive number')\r\n",
    "        continue\r\n",
    "    break\r\n"
   ],
   "outputs": [
    {
     "output_type": "stream",
     "name": "stdout",
     "text": [
      "Enter your age:\n"
     ]
    }
   ],
   "metadata": {}
  }
 ],
 "metadata": {
  "orig_nbformat": 4,
  "language_info": {
   "name": "python",
   "version": "3.8.3",
   "mimetype": "text/x-python",
   "codemirror_mode": {
    "name": "ipython",
    "version": 3
   },
   "pygments_lexer": "ipython3",
   "nbconvert_exporter": "python",
   "file_extension": ".py"
  },
  "kernelspec": {
   "name": "python3",
   "display_name": "Python 3.8.3 64-bit ('base': conda)"
  },
  "interpreter": {
   "hash": "46182d5f787c7496ac3d2ccd0c5d8bf41bffd3ac5e5e93146af501a7f382c533"
  }
 },
 "nbformat": 4,
 "nbformat_minor": 2
}